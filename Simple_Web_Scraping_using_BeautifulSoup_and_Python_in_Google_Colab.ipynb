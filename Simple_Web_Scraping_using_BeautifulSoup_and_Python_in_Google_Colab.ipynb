{
  "nbformat": 4,
  "nbformat_minor": 0,
  "metadata": {
    "colab": {
      "provenance": [],
      "authorship_tag": "ABX9TyM1ffsK10L63DURINUvGHwM",
      "include_colab_link": true
    },
    "kernelspec": {
      "name": "python3",
      "display_name": "Python 3"
    }
  },
  "cells": [
    {
      "cell_type": "markdown",
      "metadata": {
        "id": "view-in-github",
        "colab_type": "text"
      },
      "source": [
        "<a href=\"https://colab.research.google.com/github/meirarc/Simple-Web-Scraping-Python-in-Google-Colab/blob/main/Simple_Web_Scraping_using_BeautifulSoup_and_Python_in_Google_Colab.ipynb\" target=\"_parent\"><img src=\"https://colab.research.google.com/assets/colab-badge.svg\" alt=\"Open In Colab\"/></a>"
      ]
    },
    {
      "cell_type": "markdown",
      "source": [
        "# Simple Web Scraping using BeautifulSoup and Python in Google Colab\n",
        "\n",
        "Hello everyone ! welcome to my first post ever on Medium. I’m currently taking Data Science path at Codecademy, and just now I thought “Well, I want to write something about what I learned at Codecademy”, hence the post. Actually I have some topics that I want to write and post before, but I decided on this topic since I want to make Medium as a witness on my journey. Let’s begin !\n",
        "\n",
        "This Notebook was create using the base of the Medium post below to test Google Colab: \n",
        "\n",
        "https://nathanaelvictorious.medium.com/simple-web-scraping-using-beautifulsoup-and-python-in-google-colab-4084be701851"
      ],
      "metadata": {
        "id": "AF-U6i1RRkxL"
      }
    },
    {
      "cell_type": "markdown",
      "source": [
        "## Importing necessary library\n",
        "\n",
        "First thing we need to do is obviously to import the library needed, such as BeautifulSoup, requests, pandas, matplotlib, and numpy. (If you are using Visual Studio Code, PyCharm, Jupyter Notebook or etc. You can install the library first using pip command, click the link(s) for more guide !)\n",
        "\n",
        "Each library served it’s own function, BeautifulSoup for.. well scraping website, requests for getting the URL, pandas for it’s powerful yet flexible data structure DataFrame, matplotlib for visualizing the data, and numpy for list computing & analytics.\n",
        "\n",
        "Now with all the library installed and imported, forward to the next step !"
      ],
      "metadata": {
        "id": "OnPiGRTARwJl"
      }
    },
    {
      "cell_type": "code",
      "source": [
        "from bs4 import BeautifulSoup\n",
        "import requests\n",
        "import pandas as pd\n",
        "import matplotlib.pyplot as plt\n",
        "import numpy as np"
      ],
      "metadata": {
        "id": "OFLCYFFmOWfA"
      },
      "execution_count": 2,
      "outputs": []
    },
    {
      "cell_type": "markdown",
      "source": [
        "## Get the website & extracting the data\n",
        "\n",
        "The snippet above let us to save the URL into a requests.models.Response variable called “webpage” using the requests library, and then we use the BeautifulSoup to get the content of the website using html.parser into a variable called “soup”. By the way, I use Codecademy website as the source, it’s a simple website about Cocoa Ratings in the world. You can check the website here."
      ],
      "metadata": {
        "id": "d8kb_rRYR2pz"
      }
    },
    {
      "cell_type": "code",
      "source": [
        "#Fetch a website URL and store it to webpage\n",
        "webpage = requests.get(\"https://content.codecademy.com/courses/beautifulsoup/cacao/index.html\")"
      ],
      "metadata": {
        "id": "mzCP2NNOOY6T"
      },
      "execution_count": 4,
      "outputs": []
    },
    {
      "cell_type": "code",
      "source": [
        "#Take the webpage variable and fetch the content using BeautifulSoup\n",
        "soup = BeautifulSoup(webpage.content, \"html.parser\")"
      ],
      "metadata": {
        "id": "NJ_yPrenOeJr"
      },
      "execution_count": 5,
      "outputs": []
    },
    {
      "cell_type": "markdown",
      "source": [
        "## Understanding the structure of the website\n",
        "\n",
        "Before you jump in to the extraction, you must first understand the structure of the website you want to scrap by inspect the page. You can see the HTML by right clicking and choose inspect (or press CTRL + Shift + I) on the website page, then we will see the image below on our screen.\n",
        "\n",
        "If you having a hard time understanding the HTML structure you can learn the basic here.\n",
        "\n",
        "In the image above you can see that every table data (<td>) in table row (<tr>) have their own classes, such as “Company”, “Origin”, “ReviewDate”, etc. From here I assume you already got the gist of the website component, obviously we are going to extract all the table data on <tr> and <td> element tags. See the code below for extracting data from the website"
      ],
      "metadata": {
        "id": "fqKXlX59SAMC"
      }
    },
    {
      "cell_type": "code",
      "source": [
        "#Store the whole text in HTML that have the class \"Rating\" and \"CocoaPercent\"\n",
        "company_column = soup.find_all(attrs={\"class\":\"Company\"})\n",
        "rating_column = soup.find_all(attrs={\"class\": \"Rating\"})\n",
        "cocoa_percent_tags = soup.find_all(attrs={\"class\": \"CocoaPercent\"})"
      ],
      "metadata": {
        "id": "HOsKb9PwOhW4"
      },
      "execution_count": 21,
      "outputs": []
    },
    {
      "cell_type": "markdown",
      "source": [
        "Here we use the .find_all function on the soup variable that we declared before, this soup variable has the content of the website so we need to find what we need. In the code you can change the \"class\" to any HTML tags like \"id\" and \"class-name\" to any specific class/id name that you want to find.\n",
        "\n",
        "Next you make an empty list example_list = [] for containing the content of the loop after this. I use for loops in this case so, for every x (data) in example_column[1:] “Wait, why you add [1:] after the list name ?” Yes it was intended, as you can see the table row is started from the column name (Company, Specific Bean Origin, REF, etc.)"
      ],
      "metadata": {
        "id": "C-GmmEBxSO3R"
      }
    },
    {
      "cell_type": "code",
      "source": [
        "#Make a empty lists for Rating and CocoaPercent\n",
        "company = []\n",
        "ratings = []\n",
        "cocoa_percents = []"
      ],
      "metadata": {
        "id": "nUscfZJdOjyS"
      },
      "execution_count": 22,
      "outputs": []
    },
    {
      "cell_type": "markdown",
      "source": [
        "and you don’t want your list to have the column name. Hence, we started from [1] (list indexing in Python starts from 0) and the colon after 1 means all the data from index 1 to n (n = the list size).\n",
        "\n",
        "After the loop you want to insert every data on example_column to the example_list with the .append() function and float() is for changing the string value we got from x.get_text() to float.\n",
        "\n",
        "Congratulations ! Now you can extract any data you want from any website using BeautifulSoup and Python. After all the long work extracting the data, here come the fun part, analyzing the data !"
      ],
      "metadata": {
        "id": "OViqX9UeSS_D"
      }
    },
    {
      "cell_type": "code",
      "source": [
        "#Loop for inserting each table data to list\n",
        "for x in rating_column[1:] :\n",
        "  ratings.append(float(x.get_text()))"
      ],
      "metadata": {
        "id": "LfH4HiWyOmME"
      },
      "execution_count": 23,
      "outputs": []
    },
    {
      "cell_type": "code",
      "source": [
        "for x in company_column[1:] :\n",
        "  company.append(x.get_text())"
      ],
      "metadata": {
        "id": "tB9-xUyuQ_81"
      },
      "execution_count": 24,
      "outputs": []
    },
    {
      "cell_type": "code",
      "source": [
        "for td in cocoa_percent_tags[1:] :\n",
        "  percent = float(td.get_text().strip('%'))\n",
        "  cocoa_percents.append(percent)"
      ],
      "metadata": {
        "id": "ABIr9eKDOpKP"
      },
      "execution_count": 25,
      "outputs": []
    },
    {
      "cell_type": "markdown",
      "source": [
        "## Analyzing the data\n",
        "\n",
        "Okay now we arrive at the last part, first we need to see what is the data is telling us. We have 9 column, Company, Specific Bean Origin or Bar Name, REF, Review Date, Cocoa Percent, Company Location, Rating, Bean Type, and Broad Bean Origin.\n",
        "\n",
        "Next we need to decide the question we want to ask, this time I want to find the correlation between Cocoa Percentage and Rating, after that I can make a prediction about how much Cocoa Percentage affect the Rating.\n",
        "\n",
        "First we need to make the DataFrame using pandas to make things easier"
      ],
      "metadata": {
        "id": "dywB5QqHSZ9l"
      }
    },
    {
      "cell_type": "code",
      "source": [
        "#Combining both ratings and cocoa_percents list to a dictionary\n",
        "data = {\"Company\": company, \"Rating\": ratings, \"CocoaPercentage\": cocoa_percents}"
      ],
      "metadata": {
        "id": "oysWN57mOrcA"
      },
      "execution_count": 26,
      "outputs": []
    },
    {
      "cell_type": "code",
      "source": [
        "#Make a new Data Frame from data dictionary\n",
        "df = pd.DataFrame.from_dict(data)"
      ],
      "metadata": {
        "id": "9OA8NZAGPUex"
      },
      "execution_count": 27,
      "outputs": []
    },
    {
      "cell_type": "markdown",
      "source": [
        "ratings and cocoa_percents are lists that I extract from the website before, each lists contains rating column and cocoa percentage column.\n",
        "\n",
        "After that we use the function from numpy library called .polyfit()"
      ],
      "metadata": {
        "id": "u0rArfO9Sjrt"
      }
    },
    {
      "cell_type": "code",
      "source": [
        "#Find the fits using polyfit\n",
        "z = np.polyfit(df.CocoaPercentage, df.Rating, 1)"
      ],
      "metadata": {
        "id": "idBrlirTOtv1"
      },
      "execution_count": 28,
      "outputs": []
    },
    {
      "cell_type": "markdown",
      "source": [
        "This function used in linear regression problems. Linear regression models the relationship between a dependent variable and an independent variable, obtaining a line that best fits the data. In this case the dependent variable is the Rating and the independent variable is the CocoaPercentage.\n",
        "\n",
        "Now we going to use .poly1d() functions from numpy (again) that helps to define a polynomial function from .polyfit()."
      ],
      "metadata": {
        "id": "nPulAArlSo14"
      }
    },
    {
      "cell_type": "code",
      "source": [
        "#Make the line polynomial function using poly1d\n",
        "line_function = np.poly1d(z)"
      ],
      "metadata": {
        "id": "G3vNBvBfPYv6"
      },
      "execution_count": 29,
      "outputs": []
    },
    {
      "cell_type": "markdown",
      "source": [
        "And then we plot the result using matplotlib"
      ],
      "metadata": {
        "id": "84J99Cf6SsBF"
      }
    },
    {
      "cell_type": "code",
      "source": [
        "#Plotting the data\n",
        "plt.scatter(df.CocoaPercentage, df.Rating)\n",
        "plt.title('Cocoa Percentage & Ratings Correlation')\n",
        "plt.xlabel('Cocoa Percentage (%)')\n",
        "plt.ylabel('Ratings')\n",
        "plt.plot(df.CocoaPercentage, line_function(df.CocoaPercentage), \"r--\")\n",
        "plt.show()"
      ],
      "metadata": {
        "colab": {
          "base_uri": "https://localhost:8080/",
          "height": 295
        },
        "id": "kUOTDKSYPZYM",
        "outputId": "2166de6a-7ea6-4d00-9b5f-7397ecaa8fd0"
      },
      "execution_count": 30,
      "outputs": [
        {
          "output_type": "display_data",
          "data": {
            "text/plain": [
              "<Figure size 432x288 with 1 Axes>"
            ],
            "image/png": "[encoded data removed]"
          },
          "metadata": {
            "needs_background": "light"
          }
        }
      ]
    }
  ]
}